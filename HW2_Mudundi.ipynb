{
  "nbformat": 4,
  "nbformat_minor": 0,
  "metadata": {
    "colab": {
      "name": "HW2_Mudundi.ipynb",
      "provenance": [],
      "collapsed_sections": []
    },
    "kernelspec": {
      "name": "python3",
      "display_name": "Python 3"
    },
    "language_info": {
      "name": "python"
    }
  },
  "cells": [
    {
      "cell_type": "code",
      "execution_count": 229,
      "metadata": {
        "id": "MZ7YZWRZYUPO"
      },
      "outputs": [],
      "source": [
        "import numpy as np\n",
        "import pandas as pd\n",
        "import sklearn\n",
        "from sklearn.model_selection import train_test_split\n",
        "from sklearn.linear_model import LogisticRegression\n"
      ]
    },
    {
      "cell_type": "markdown",
      "source": [
        "Loading and Scaling Data From Train Data **Set**"
      ],
      "metadata": {
        "id": "JC0A6-zHDRHU"
      }
    },
    {
      "cell_type": "code",
      "source": [
        "df=pd.read_csv('/content/1644871288_9762487_cleveland-train.csv')\n",
        "X = (df[['age',\t'sex',\t'cp',\t'trestbps',\t'chol',\t'fbs',\t'restecg'\t,'thalach',\t'exang',\t'oldpeak',\t'slope'\t,'ca',\t'thal']])\n",
        "Y = np.array(df['heartdisease::category|-1|1'])\n",
        "cols_to_scale = ['age',\t'sex',\t'cp',\t'trestbps',\t'chol',\t'fbs',\t'restecg'\t,'thalach',\t'exang',\t'oldpeak',\t'slope'\t,'ca',\t'thal']\n",
        "X_new= X[cols_to_scale]\n",
        "#scale each of the features in your training data by subtracting the mean and dividing by the standard deviation\n",
        "X_new = X_new[cols_to_scale].apply( lambda x:(x - x.mean())/x.std(), axis =0)\n",
        "X_new = np.array(X_new)\n",
        "#append an intercept =1 as x0 feature\n",
        "intercept = np.ones((X_new.shape[0], 1))\n",
        "X_new=np.concatenate((intercept, X_new), axis=1)"
      ],
      "metadata": {
        "id": "ztyoJ8EJZBa3"
      },
      "execution_count": 230,
      "outputs": []
    },
    {
      "cell_type": "code",
      "source": [
        "#dividing Data set into train and test samples\n",
        "X_train, X_test, y_train, y_test = train_test_split(\n",
        "   X_new ,Y, test_size = 0.25)"
      ],
      "metadata": {
        "id": "gu7wnhn5mU0p"
      },
      "execution_count": 231,
      "outputs": []
    },
    {
      "cell_type": "markdown",
      "source": [
        "# Function to predict values and calculate classification Error"
      ],
      "metadata": {
        "id": "7m3ilEfBDwOM"
      }
    },
    {
      "cell_type": "code",
      "source": [
        "def prediction(X,y,w):\n",
        "  predict_value=1 / (1 + np.exp(-(np.dot(X,w))))\n",
        "  fins= np.array([1 if i >= 0.5 else -1 for i in predict_value])\n",
        "  accuracy = 0\n",
        "  for i in range(fins.size):\n",
        "      if fins[i] == y[i]: \n",
        "          accuracy += 1\n",
        "  acc = accuracy / fins.size\n",
        "  return 1-acc"
      ],
      "metadata": {
        "id": "MKLL0Q6VJvw3"
      },
      "execution_count": 232,
      "outputs": []
    },
    {
      "cell_type": "markdown",
      "source": [
        "# Gradient Descent Training Function"
      ],
      "metadata": {
        "id": "atyBg6ppD8O0"
      }
    },
    {
      "cell_type": "code",
      "source": [
        "def Gradient_descent_train(X, y,itr,eta,tol):\n",
        "  all_csts = []\n",
        "  #initial values of weights as zero\n",
        "  w = np.zeros(X.shape[1]) \n",
        "  for each_iter in range (itr):\n",
        "    #gradient value based on slides in logistic regression 2\n",
        "    gradient=-(1/y.shape[0])*np.sum((X*y[:, np.newaxis])*(1.0 / (1 + np.exp(y*(np.dot(X,w)))))[:, np.newaxis],axis=0)\n",
        "    #if gradient terms fall below tolerance level the algorithm terminates\n",
        "    if(np.all(gradient<tol)):\n",
        "      break\n",
        "    else:\n",
        "      #weights are updated based on gradient and eta values\n",
        "      w -= eta * gradient\n",
        "      #cross-entropy loss equation\n",
        "      cross_entropy=(1/y.shape[0])*np.sum(np.log(1+np.exp(-(y*(np.dot(X,w))))))\n",
        "      all_csts.append(cross_entropy)\n",
        "      each_iter += 1\n",
        "      # if each_iter % 1000 == 0:\n",
        "      #     print('Iteration: ', each_iter, 'Cost: ', cross_entropy)\n",
        "      #     each_iter += 1\n",
        "  classification_error=prediction(X_test,y_test,w)\n",
        "  return w,cross_entropy,classification_error,itr,all_csts,each_iter"
      ],
      "metadata": {
        "id": "t4XR4o9J1tR-"
      },
      "execution_count": 233,
      "outputs": []
    },
    {
      "cell_type": "code",
      "source": [
        "w,cross_entropy,classification_error,itr,all_csts,each_iter=Gradient_descent_train(X_train,y_train,100000,0.0001,0.000001)"
      ],
      "metadata": {
        "id": "tUNjXETuHueI"
      },
      "execution_count": 234,
      "outputs": []
    },
    {
      "cell_type": "code",
      "source": [
        "print('Weights :',w[1:])\n",
        "print('Intercept:' , w[0])\n",
        "print('cross_entropy_error: ',cross_entropy)\n",
        "print('Classification error:',classification_error)\n",
        "print('iteration stop at',each_iter)"
      ],
      "metadata": {
        "colab": {
          "base_uri": "https://localhost:8080/"
        },
        "id": "RzcP5bRzKZ_W",
        "outputId": "d0498b0e-5604-47e1-b93a-4f438f280067"
      },
      "execution_count": 235,
      "outputs": [
        {
          "output_type": "stream",
          "name": "stdout",
          "text": [
            "Weights : [ 0.10884186  0.33827215  0.27094481  0.36197531  0.11126836 -0.21097818\n",
            "  0.10881493 -0.19878092  0.31813957  0.38820435  0.28762043  0.65383532\n",
            "  0.49646613]\n",
            "Intercept: -0.25234292792862445\n",
            "cross_entropy_error:  0.41292898090392705\n",
            "Classification error: 0.1842105263157895\n",
            "iteration stop at 100000\n"
          ]
        }
      ]
    },
    {
      "cell_type": "markdown",
      "source": [
        "Graph to plot the behaviour of cross entropy loss with respect to the iterations"
      ],
      "metadata": {
        "id": "q_ocFz0dEILN"
      }
    },
    {
      "cell_type": "code",
      "source": [
        "import matplotlib.pyplot as plt\n",
        "import seaborn as sn\n",
        "%matplotlib inline\n",
        "plt.scatter( range(itr), all_csts)"
      ],
      "metadata": {
        "colab": {
          "base_uri": "https://localhost:8080/",
          "height": 282
        },
        "id": "Sl3EkBk-AB0q",
        "outputId": "69d156e1-be03-4315-87bb-a28518eb374f"
      },
      "execution_count": 236,
      "outputs": [
        {
          "output_type": "execute_result",
          "data": {
            "text/plain": [
              "<matplotlib.collections.PathCollection at 0x7f4b2f431850>"
            ]
          },
          "metadata": {},
          "execution_count": 236
        },
        {
          "output_type": "display_data",
          "data": {
            "image/png": "[encoded data removed]",
            "text/plain": [
              "<Figure size 432x288 with 1 Axes>"
            ]
          },
          "metadata": {
            "needs_background": "light"
          }
        }
      ]
    },
    {
      "cell_type": "markdown",
      "source": [
        "# Load Test Data and Perform Scaling"
      ],
      "metadata": {
        "id": "fhdM-hHZEUN0"
      }
    },
    {
      "cell_type": "code",
      "source": [
        "dft=pd.read_csv('/content/1644871288_9775174_cleveland-test.csv')\n",
        "X_t = (dft[['age',\t'sex',\t'cp',\t'trestbps',\t'chol',\t'fbs',\t'restecg'\t,'thalach',\t'exang',\t'oldpeak',\t'slope'\t,'ca',\t'thal']])\n",
        "cols_to_scale_t = ['age',\t'sex',\t'cp',\t'trestbps',\t'chol',\t'fbs',\t'restecg'\t,'thalach',\t'exang',\t'oldpeak',\t'slope'\t,'ca',\t'thal']\n",
        "X_new_t= X_t[cols_to_scale_t]\n",
        "X_new_t = X_new_t[cols_to_scale_t].apply( lambda y:(y - y.mean())/y.std(), axis =0)\n",
        "X_new_t = np.array(X_new_t)\n",
        "# X_new_t=X_t\n",
        "intercept = np.ones((X_new_t.shape[0], 1))\n",
        "X_new_t=np.concatenate((intercept, X_new_t), axis=1)\n"
      ],
      "metadata": {
        "id": "Qd-cFWK_lh9h"
      },
      "execution_count": 237,
      "outputs": []
    },
    {
      "cell_type": "code",
      "source": [
        "test_prediction =1 / (1 + np.exp(-(np.dot(X_new_t,w))))"
      ],
      "metadata": {
        "id": "UkPSvrBSxVXC"
      },
      "execution_count": 238,
      "outputs": []
    },
    {
      "cell_type": "code",
      "source": [
        "#With threshold 0.5 we classify the probabilistic values\n",
        "finale = [1 if i >= 0.5 else -1 for i in test_prediction]\n",
        "spw= np.array(finale)\n",
        "spw.tofile('/content/sample.csv',sep=',')"
      ],
      "metadata": {
        "id": "f9Dnp-ZSxVXC"
      },
      "execution_count": 239,
      "outputs": []
    },
    {
      "cell_type": "markdown",
      "source": [
        "# Logistic Regression From HW1"
      ],
      "metadata": {
        "id": "yyb9prTREpw1"
      }
    },
    {
      "cell_type": "code",
      "source": [
        "X_train_2, X_test_2, y_train_2, y_test_2 = train_test_split(\n",
        "   X_new ,Y)\n",
        "model = LogisticRegression(C = 1.0,random_state=0)\n",
        "model.fit(X_train_2, y_train_2)\n",
        "predicted_value = model.predict(X_test_2)\n",
        "correctly_predicted = predicted_value == y_test_2\n",
        "accuracy = np.mean(correctly_predicted) * 100\n",
        "print (accuracy)"
      ],
      "metadata": {
        "colab": {
          "base_uri": "https://localhost:8080/"
        },
        "id": "JTwE4Qk4g-tj",
        "outputId": "08076209-19ba-4b43-8880-8a661322bf89"
      },
      "execution_count": 240,
      "outputs": [
        {
          "output_type": "stream",
          "name": "stdout",
          "text": [
            "81.57894736842105\n"
          ]
        }
      ]
    },
    {
      "cell_type": "code",
      "source": [
        "predicted_values = model.predict(X_new_t)\n",
        "sp= np.array(predicted_values)\n",
        "sp.tofile('/content/sample_sklog.csv',sep=',')"
      ],
      "metadata": {
        "id": "DpkVdCtAl_0g"
      },
      "execution_count": 241,
      "outputs": []
    }
  ]
}